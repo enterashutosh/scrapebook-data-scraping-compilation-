{
 "cells": [
  {
   "cell_type": "markdown",
   "metadata": {
    "id": "gMhp5Rg-8nVE"
   },
   "source": [
    "#installation (selenium and other things)"
   ]
  },
  {
   "cell_type": "code",
   "execution_count": 1,
   "metadata": {
    "colab": {
     "base_uri": "https://localhost:8080/"
    },
    "id": "nYVZa-ypOxzz",
    "outputId": "151493d1-13ed-4ad9-fb00-eba605de9f5c"
   },
   "outputs": [
    {
     "name": "stdout",
     "output_type": "stream",
     "text": [
      "Requirement already satisfied: selenium in c:\\users\\ashut\\anaconda3\\lib\\site-packages (4.16.0)\n",
      "Requirement already satisfied: urllib3[socks]<3,>=1.26 in c:\\users\\ashut\\anaconda3\\lib\\site-packages (from selenium) (1.26.16)\n",
      "Requirement already satisfied: trio~=0.17 in c:\\users\\ashut\\anaconda3\\lib\\site-packages (from selenium) (0.23.2)\n",
      "Requirement already satisfied: trio-websocket~=0.9 in c:\\users\\ashut\\anaconda3\\lib\\site-packages (from selenium) (0.11.1)\n",
      "Requirement already satisfied: certifi>=2021.10.8 in c:\\users\\ashut\\anaconda3\\lib\\site-packages (from selenium) (2023.7.22)\n",
      "Requirement already satisfied: attrs>=20.1.0 in c:\\users\\ashut\\anaconda3\\lib\\site-packages (from trio~=0.17->selenium) (22.1.0)\n",
      "Requirement already satisfied: sortedcontainers in c:\\users\\ashut\\anaconda3\\lib\\site-packages (from trio~=0.17->selenium) (2.4.0)\n",
      "Requirement already satisfied: idna in c:\\users\\ashut\\anaconda3\\lib\\site-packages (from trio~=0.17->selenium) (3.4)\n",
      "Requirement already satisfied: outcome in c:\\users\\ashut\\anaconda3\\lib\\site-packages (from trio~=0.17->selenium) (1.3.0.post0)\n",
      "Requirement already satisfied: sniffio>=1.3.0 in c:\\users\\ashut\\anaconda3\\lib\\site-packages (from trio~=0.17->selenium) (1.3.0)\n",
      "Requirement already satisfied: cffi>=1.14 in c:\\users\\ashut\\anaconda3\\lib\\site-packages (from trio~=0.17->selenium) (1.15.1)\n",
      "Requirement already satisfied: wsproto>=0.14 in c:\\users\\ashut\\anaconda3\\lib\\site-packages (from trio-websocket~=0.9->selenium) (1.2.0)\n",
      "Requirement already satisfied: PySocks!=1.5.7,<2.0,>=1.5.6 in c:\\users\\ashut\\anaconda3\\lib\\site-packages (from urllib3[socks]<3,>=1.26->selenium) (1.7.1)\n",
      "Requirement already satisfied: pycparser in c:\\users\\ashut\\anaconda3\\lib\\site-packages (from cffi>=1.14->trio~=0.17->selenium) (2.21)\n",
      "Requirement already satisfied: h11<1,>=0.9.0 in c:\\users\\ashut\\anaconda3\\lib\\site-packages (from wsproto>=0.14->trio-websocket~=0.9->selenium) (0.14.0)\n",
      "Note: you may need to restart the kernel to use updated packages.\n"
     ]
    }
   ],
   "source": [
    "pip install selenium"
   ]
  },
  {
   "cell_type": "code",
   "execution_count": 1,
   "metadata": {
    "id": "ko3fj2TQPJ90"
   },
   "outputs": [],
   "source": [
    "from selenium import webdriver\n",
    "from selenium.webdriver.chrome.options import Options\n",
    "from selenium.webdriver.common.by import By"
   ]
  },
  {
   "cell_type": "code",
   "execution_count": 2,
   "metadata": {
    "id": "gtK6myAXPOcp"
   },
   "outputs": [],
   "source": [
    "options = Options()\n",
    "\n",
    "# following is for google colab only, can work in jupyter without\n",
    "\n",
    "#options.add_argument('--headless')\n",
    "#options.add_argument('--no-sandbox')"
   ]
  },
  {
   "cell_type": "code",
   "execution_count": 3,
   "metadata": {
    "id": "UkCHo69JQuVu"
   },
   "outputs": [],
   "source": [
    "from bs4 import BeautifulSoup\n",
    "import numpy as np\n",
    "import pandas as pd\n",
    "import time"
   ]
  },
  {
   "cell_type": "markdown",
   "metadata": {
    "id": "X3RrkuETSjmj"
   },
   "source": [
    "#flipkart (phones and their prices)"
   ]
  },
  {
   "cell_type": "code",
   "execution_count": 5,
   "metadata": {
    "id": "c-CkSu6Az6IT"
   },
   "outputs": [],
   "source": [
    "kart_driver = webdriver.Chrome(options=options)\n",
    "kart_driver.get('https://www.flipkart.com/')\n",
    "kart_driver.maximize_window()"
   ]
  },
  {
   "cell_type": "code",
   "execution_count": 6,
   "metadata": {
    "id": "ee6IlLAnik5l"
   },
   "outputs": [],
   "source": [
    "search_box = kart_driver.find_element(By.NAME, 'q')\n",
    "search_box.send_keys('mobile phones')\n",
    "search_box.submit()\n",
    "\n",
    "kart_driver.implicitly_wait(3)"
   ]
  },
  {
   "cell_type": "code",
   "execution_count": 27,
   "metadata": {
    "colab": {
     "base_uri": "https://localhost:8080/"
    },
    "id": "IpaL8FphmP6A",
    "outputId": "44df27e2-9dfc-40fe-bdd5-a54d411e8a2c"
   },
   "outputs": [
    {
     "name": "stdout",
     "output_type": "stream",
     "text": [
      "Apple iPhone 15 (Black, 128 GB) ₹69,999\n",
      "Apple iPhone 15 (Blue, 128 GB) ₹69,999\n",
      "Apple iPhone 15 (Pink, 128 GB) ₹69,999\n",
      "Apple iPhone 14 Plus (Blue, 128 GB) ₹59,999\n",
      "Apple iPhone 14 Plus (Midnight, 128 GB) ₹59,999\n",
      "Motorola G34 5G (Ocean Green, 128 GB) ₹11,999\n",
      "vivo T3 Lite 5G (Majestic Black, 128 GB) ₹11,499\n",
      "Motorola g64 5G (Ice Lilac, 256 GB) ₹15,999\n",
      "Motorola Edge 50 Fusion (Marshmallow Blue, 256 GB) ₹24,999\n",
      "Apple iPhone 15 (Green, 128 GB) ₹69,999\n",
      "Motorola g64 5G (Mint Green, 256 GB) ₹15,999\n",
      "Motorola g04s (Satin Blue, 64 GB) ₹6,999\n",
      "Motorola Edge 50 Fusion (Marshmallow Blue, 128 GB) ₹22,999\n",
      "Motorola g04s (Concord Black, 64 GB) ₹6,999\n",
      "Motorola g64 5G (Mint Green, 128 GB) ₹13,999\n",
      "realme 12x 5G (Woodland Green, 128 GB) ₹14,999\n",
      "REDMI 13C (Starshine Green, 128 GB) ₹7,699\n",
      "Motorola Edge 50 Pro 5G with 68W Charger (Luxe Lavender, 256 GB) ₹29,999\n",
      "Apple iPhone 15 Plus (Blue, 128 GB) ₹79,999\n",
      "Apple iPhone 13 (Midnight, 128 GB) ₹51,999\n",
      "REDMI 13C (Starfrost White, 128 GB) ₹7,699\n",
      "vivo T3 Lite 5G (Vibrant Green, 128 GB) ₹11,499\n",
      "vivo T3 Lite 5G (Vibrant Green, 128 GB) ₹10,499\n",
      "vivo T3 Lite 5G (Majestic Black, 128 GB) ₹10,499\n"
     ]
    }
   ],
   "source": [
    "data_dict = {}\n",
    "\n",
    "product_names = kart_driver.find_elements(By.CLASS_NAME, 'KzDlHZ')\n",
    "product_prices = kart_driver.find_elements(By.CLASS_NAME, 'Nx9bqj')\n",
    "\n",
    "for index, item in enumerate(product_names, 0):\n",
    "    data_dict.update({item : product_prices[index]})\n",
    "\n",
    "for x, y in data_dict.items():\n",
    "    print(x.text, y.text)"
   ]
  },
  {
   "cell_type": "code",
   "execution_count": 43,
   "metadata": {},
   "outputs": [
    {
     "name": "stdout",
     "output_type": "stream",
     "text": [
      "[<selenium.webdriver.remote.webelement.WebElement (session=\"2fd3686309e7e1363f1255de63b09ca1\", element=\"f.E1BE8009E82D9DBC85AF9C30A22679A3.d.E6A2714032485F08F334538FA69E6BD5.e.476\")>\n",
      " <selenium.webdriver.remote.webelement.WebElement (session=\"2fd3686309e7e1363f1255de63b09ca1\", element=\"f.E1BE8009E82D9DBC85AF9C30A22679A3.d.E6A2714032485F08F334538FA69E6BD5.e.1155\")>]\n",
      "\n",
      "\n",
      "Apple iPhone 15 (Black, 128 GB)\n",
      "\n",
      "\n",
      "₹69,999\n"
     ]
    }
   ],
   "source": [
    "numpy_array = np.array(list(data_dict.items()))\n",
    "\n",
    "print(numpy_array[0])\n",
    "print('\\n')\n",
    "print(numpy_array[0][0].text)\n",
    "print('\\n')\n",
    "print(numpy_array[0][1].text)"
   ]
  },
  {
   "cell_type": "code",
   "execution_count": 44,
   "metadata": {},
   "outputs": [],
   "source": [
    "kart_driver.quit()"
   ]
  },
  {
   "cell_type": "markdown",
   "metadata": {
    "id": "9W2pk3t8RbY8"
   },
   "source": [
    "#turtle images (dealing with iframes)"
   ]
  },
  {
   "cell_type": "code",
   "execution_count": 4,
   "metadata": {
    "id": "zNi-xmvaRs6X"
   },
   "outputs": [],
   "source": [
    "turtle_driver = webdriver.Chrome(options=options)\n",
    "turtle_driver.get('https://www.scrapethissite.com/pages/frames/')\n",
    "turtle_driver.maximize_window()"
   ]
  },
  {
   "cell_type": "code",
   "execution_count": 5,
   "metadata": {
    "id": "CjYbZH2cnNGo"
   },
   "outputs": [],
   "source": [
    "iframe = turtle_driver.find_element(By.TAG_NAME, 'iframe')\n",
    "turtle_driver.switch_to.frame(iframe)"
   ]
  },
  {
   "cell_type": "code",
   "execution_count": 6,
   "metadata": {
    "colab": {
     "base_uri": "https://localhost:8080/"
    },
    "id": "cCewSjY6stIZ",
    "outputId": "5b409c80-887d-448a-8a31-4267acbf36d7"
   },
   "outputs": [
    {
     "name": "stdout",
     "output_type": "stream",
     "text": [
      "https://www.scrapethissite.com/static/images/scraper-icon.png\n",
      "https://upload.wikimedia.org/wikipedia/commons/thumb/b/b3/Carettochelys_insculpta.jpg/200px-Carettochelys_insculpta.jpg\n",
      "https://upload.wikimedia.org/wikipedia/commons/thumb/7/71/GreenSeaTurtle-2.jpg/200px-GreenSeaTurtle-2.jpg\n",
      "https://upload.wikimedia.org/wikipedia/commons/thumb/8/88/Alligator_snapping_turtle.jpg/200px-Alligator_snapping_turtle.jpg\n",
      "https://upload.wikimedia.org/wikipedia/commons/thumb/8/8a/Dermatemydidae.JPG/200px-Dermatemydidae.JPG\n",
      "https://upload.wikimedia.org/wikipedia/commons/thumb/9/9b/LeatherbackTurtle.jpg/200px-LeatherbackTurtle.jpg\n",
      "https://upload.wikimedia.org/wikipedia/commons/thumb/4/45/Tortoise1_cepolina.jpg/200px-Tortoise1_cepolina.jpg\n",
      "https://upload.wikimedia.org/wikipedia/commons/thumb/f/f3/Cuora_amboinensis_kamaroma_j.jpg/200px-Cuora_amboinensis_kamaroma_j.jpg\n",
      "https://upload.wikimedia.org/wikipedia/commons/thumb/5/5e/Sternotherus_odoratus.jpg/200px-Sternotherus_odoratus.jpg\n",
      "https://upload.wikimedia.org/wikipedia/commons/thumb/7/79/Zolw_wielkoglowy.jpg/200px-Zolw_wielkoglowy.jpg\n",
      "https://upload.wikimedia.org/wikipedia/commons/thumb/4/41/Tortoise.aldabra.750pix.jpg/200px-Tortoise.aldabra.750pix.jpg\n",
      "https://upload.wikimedia.org/wikipedia/commons/thumb/3/39/Apalone_spinifera.jpg/200px-Apalone_spinifera.jpg\n",
      "https://upload.wikimedia.org/wikipedia/commons/thumb/e/ec/Eastern_long_neck_tortoise_-_chelodina_longicollis.jpg/200px-Eastern_long_neck_tortoise_-_chelodina_longicollis.jpg\n",
      "https://upload.wikimedia.org/wikipedia/commons/thumb/8/86/Pelomedusa_subrufa.JPG/200px-Pelomedusa_subrufa.JPG\n",
      "https://upload.wikimedia.org/wikipedia/commons/thumb/5/5b/Erymnochelys_madagascariensis.jpg/200px-Erymnochelys_madagascariensis.jpg\n"
     ]
    }
   ],
   "source": [
    "images_list = turtle_driver.find_elements(By.TAG_NAME, 'img')\n",
    "for item in images_list:\n",
    "  print(item.get_attribute('src'))"
   ]
  },
  {
   "cell_type": "code",
   "execution_count": 7,
   "metadata": {
    "colab": {
     "base_uri": "https://localhost:8080/"
    },
    "id": "tqn_hi5dupDy",
    "outputId": "50e937fd-07d9-4c33-8807-e0f6b73c2888"
   },
   "outputs": [],
   "source": [
    "import requests\n",
    "import shutil"
   ]
  },
  {
   "cell_type": "code",
   "execution_count": 8,
   "metadata": {},
   "outputs": [],
   "source": [
    "from PIL import Image"
   ]
  },
  {
   "cell_type": "code",
   "execution_count": 16,
   "metadata": {},
   "outputs": [],
   "source": [
    "url = images_list[4].get_attribute('src')\n",
    "result = requests.get(url, stream = True)\n",
    "file_name = 'TEST.jpg'"
   ]
  },
  {
   "cell_type": "code",
   "execution_count": 17,
   "metadata": {},
   "outputs": [
    {
     "data": {
      "text/plain": [
       "<Response [200]>"
      ]
     },
     "execution_count": 17,
     "metadata": {},
     "output_type": "execute_result"
    }
   ],
   "source": [
    "with open(file_name,'wb') as f:\n",
    "  shutil.copyfileobj(result.raw, f)\n",
    "\n",
    "result"
   ]
  },
  {
   "cell_type": "code",
   "execution_count": 18,
   "metadata": {},
   "outputs": [],
   "source": [
    "turtle_driver.quit()"
   ]
  },
  {
   "cell_type": "markdown",
   "metadata": {
    "id": "RLJqv69qiGv_"
   },
   "source": [
    "#youtube (top 100 songs)"
   ]
  },
  {
   "cell_type": "code",
   "execution_count": 19,
   "metadata": {
    "id": "UA2dF_mAdHpq"
   },
   "outputs": [],
   "source": [
    "yt_driver = webdriver.Chrome(options=options)\n",
    "yt_driver.get('https://www.youtube.com/')\n",
    "yt_driver.maximize_window()"
   ]
  },
  {
   "cell_type": "code",
   "execution_count": 21,
   "metadata": {
    "id": "i31JGBkJiVcN"
   },
   "outputs": [],
   "source": [
    "search_btn = yt_driver.find_element(By.XPATH, \"//input[@id='search']\")\n",
    "search_btn.send_keys('top 100 songs 2024')\n",
    "search_btn.submit()"
   ]
  },
  {
   "cell_type": "code",
   "execution_count": 22,
   "metadata": {
    "id": "W72zSbOLlBaN"
   },
   "outputs": [],
   "source": [
    "playlist_btn = yt_driver.find_element(By.XPATH, \"//a[contains(text(), 'View full playlist')]\")\n",
    "playlist_btn.click()"
   ]
  },
  {
   "cell_type": "code",
   "execution_count": 23,
   "metadata": {
    "colab": {
     "base_uri": "https://localhost:8080/"
    },
    "id": "FqdrPeKWqxzP",
    "outputId": "12787e3d-3797-49ca-cbcf-f915ad4759d9"
   },
   "outputs": [
    {
     "data": {
      "text/plain": [
       "['Sabrina Carpenter - Please Please Please (Official Video)',\n",
       " 'Post Malone - I Had Some Help (feat. Morgan Wallen) (Official Video)',\n",
       " 'Shaboozey - A Bar Song (Tipsy) (Lyrics)',\n",
       " 'Tommy Richman - MILLION DOLLAR BABY (Lyrics)',\n",
       " 'Not Like Us',\n",
       " 'Teddy Swims - Lose Control (Lyrics)',\n",
       " 'Billie Eilish - BIRDS OF A FEATHER (Official Lyric Video)',\n",
       " 'Chappell Roan - Good Luck, Babe!',\n",
       " 'Benson Boone - Beautiful Things (Official Music Video)',\n",
       " 'CENTRAL CEE FT. LIL BABY - BAND4BAND (MUSIC VIDEO)',\n",
       " 'Zach Bryan - Pink Skies (Lyrics)',\n",
       " 'Eminem - Houdini [Official Music Video]',\n",
       " 'Taylor Swift - Fortnight (feat. Post Malone) (Official Music Video)',\n",
       " 'Future, Metro Boomin, Kendrick Lamar - Like That (Official Audio)',\n",
       " 'Madison Beer - 15 MINUTES (Official Music Video)',\n",
       " 'Morgan Wallen - Cowgirls ft. ERNEST',\n",
       " 'SZA - Saturn',\n",
       " 'Billie Eilish - LUNCH (Official Music Video)',\n",
       " \"Ariana Grande - we can't be friends (wait for your love) (official music video)\",\n",
       " \"Alice Chater - Don't Let My Boyfriend Get In Your Way (Official Music Video)\",\n",
       " 'SEVDALIZA - ALIBI FT. PABLLO VITTAR & YSEULT (OFFICIAL MUSIC VIDEO)',\n",
       " 'Dasha - Austin (Official Music Video)',\n",
       " 'Moneybagg Yo - WHISKEY WHISKEY [feat. Morgan Wallen] (Official Audio)',\n",
       " 'Zach Bryan - I Remember Everything feat. Kacey Musgraves',\n",
       " 'Koe Wetzel, Jessie Murph - High Road (Official Video)',\n",
       " 'Quavo, Lana Del Rey - Tough (Official Video)',\n",
       " 'Sabrina Carpenter - Feather (Lyric Video)',\n",
       " 'Marshmello, Kane Brown - Miles On It (Official Music Video)',\n",
       " 'GloRilla – Wanna Be feat. Megan Thee Stallion (Official Music Video)',\n",
       " 'FloyyMenor, Cris MJ - Gata Only',\n",
       " 'Benson Boone - Slow It Down (Official Music Video)',\n",
       " 'Luke Combs - Remember Him That Way (Official Music Video)',\n",
       " 'Billie Eilish - CHIHIRO (Official Music Video)',\n",
       " 'Nate Smith - Bulletproof (Official Music Video)',\n",
       " 'Sabrina Carpenter - Espresso (Official Video)',\n",
       " 'Ariana Grande - yes, and? (official music video)',\n",
       " 'Djo - End of Beginning (Official Lyric Video)',\n",
       " 'Jack Harlow - Lovin On Me [Official Music Video]',\n",
       " 'Tate McRae - greedy (Official Video)',\n",
       " 'Dua Lipa - Dance The Night (From Barbie The Album) [Official Music Video]',\n",
       " 'Central Cee x Dave - Sprinter [Music Video]',\n",
       " 'Kenya Grace - Strangers (Official Lyric Video)',\n",
       " 'Miley Cyrus - Flowers (Official Video)',\n",
       " 'Childish Gambino - Lithonia (Official Music Video)',\n",
       " 'Dua Lipa - Houdini (Official Music Video)',\n",
       " 'SZA - Kill Bill (Audio)',\n",
       " 'Tyla - Water (Official Music Video)',\n",
       " '21 Savage - redrum (Official Music Video)',\n",
       " 'Drake - First Person Shooter ft. J. Cole',\n",
       " 'Jessie Murph, Jelly Roll - Wild Ones (Official Video)',\n",
       " 'Marshmello, Polo G, Southside - Grown Man (Official Video)',\n",
       " 'Taylor Swift ft. Ice Spice - Karma (Official Music Video)',\n",
       " 'Lil Durk - All My Life ft. J. Cole',\n",
       " \"Key Glock - Let's Go (Official Video)\",\n",
       " 'Dua Lipa - Illusion (Official Music Video)',\n",
       " 'Katy Perry - WOMAN’S WORLD (Official Video)',\n",
       " 'Morgan Wallen - Last Night (One Record At A Time Sessions)',\n",
       " 'Jordan Adetunji - KEHLANI [Official Video]',\n",
       " 'Drake - Another Late Night ft. Lil Yachty (Official Music Video)',\n",
       " 'Madison Beer - Make You Mine (Lyric Visualizer)',\n",
       " 'Justin Timberlake - Selfish (Official Video)',\n",
       " 'The Weeknd, JENNIE, Lily-Rose Depp - One Of The Girls (Official Video)',\n",
       " 'Harry Styles - Satellite (Official Video)',\n",
       " \"Metro Boomin, The Weeknd, 21 Savage - Creepin' (Visualizer)\",\n",
       " 'The Weeknd, Ariana Grande - Die For You (Remix / Lyric Video)',\n",
       " 'Libianca - People (Official Video)',\n",
       " 'Muni Long - Made For Me (Official Music Video)',\n",
       " 'CHINCHILLA - Little Girl Gone (Official Music Video)',\n",
       " 'David Guetta, Anne-Marie, Coi Leray - Baby Don’t Hurt Me (Official Video)',\n",
       " 'Travis Scott - I KNOW ? (Official Music Video)',\n",
       " 'Megan Thee Stallion - HISS [Official Video]',\n",
       " 'Diplo - Use Me (Brutal Hearts) [Official Video] feat. Johnny Blue Skies & Dove Cameron',\n",
       " 'Labrinth - Never Felt So Alone (Official Video)',\n",
       " 'Luke Combs - The Man He Sees in Me (Official Music Video)',\n",
       " 'Post Malone - Chemical (Official Music Video)',\n",
       " 'Ice Spice & Nicki Minaj - Princess Diana (Official Music Video)',\n",
       " 'Paul Russell - Lil Boo Thang (Official Video)',\n",
       " 'PinkPantheress, Ice Spice - Boy’s a liar Pt. 2 (Official Video)',\n",
       " 'Kygo, Ava Max - Whatever (Official Video)',\n",
       " 'Rema, Selena Gomez - Calm Down (Official Music Video)',\n",
       " 'Coi Leray - Players (DJ Smallz 732 - Jersey Club Remix)',\n",
       " 'Drake - Search & Rescue (Official Visualizer)',\n",
       " 'Bailey Zimmerman - Rock and A Hard Place (Official Music Video)',\n",
       " 'Reneé Rapp, Megan Thee Stallion - Not My Fault (Official Music Video)',\n",
       " 'Morgan Wallen - You Proof (Official Music Video)',\n",
       " 'Harry Styles - As It Was (Official Video)',\n",
       " 'Toosii - Favorite Song (Official Video)',\n",
       " 'Rod Wave - Fight The Feeling (Official Video)',\n",
       " 'RAYE, 070 Shake - Escapism. (Official Music Video)',\n",
       " 'Lil Uzi Vert - Just Wanna Rock [Official Music Video]',\n",
       " 'KAROL G, Shakira - TQG (Official Video)',\n",
       " 'Beyoncé - CUFF IT (Official Lyric Video)',\n",
       " 'Ed Sheeran - Eyes Closed [Official Video]',\n",
       " 'Stephen Sanchez - Until I Found You (Official Video)',\n",
       " 'Lady Gaga - Bloody Mary (TikTok Remix | Speed Up) | Wednesday Dance Scene',\n",
       " 'Taylor Swift - Anti-Hero (Official Music Video)',\n",
       " \"David Guetta & Bebe Rexha - I'm Good (Blue) [Official Music Video]\",\n",
       " 'OneRepublic - I Ain’t Worried (From “Top Gun: Maverick”) [Official Music Video]',\n",
       " 'Artemas - i like the way you kiss me (lyric video)',\n",
       " 'Hozier - Too Sweet (Official Lyric Video)']"
      ]
     },
     "execution_count": 23,
     "metadata": {},
     "output_type": "execute_result"
    }
   ],
   "source": [
    "videos = yt_driver.find_elements(By.CSS_SELECTOR, \"ytd-browse  div#meta a#video-title\")\n",
    "videos_list = [video.text for video in videos]\n",
    "videos_list"
   ]
  },
  {
   "cell_type": "code",
   "execution_count": 24,
   "metadata": {},
   "outputs": [],
   "source": [
    "yt_driver.quit()"
   ]
  },
  {
   "cell_type": "markdown",
   "metadata": {},
   "source": [
    "#twitter (tweets by elon musk)"
   ]
  },
  {
   "cell_type": "code",
   "execution_count": 25,
   "metadata": {
    "id": "rIFCwhePZrQ2"
   },
   "outputs": [],
   "source": [
    "tw_driver = webdriver.Chrome(options=options)\n",
    "tw_driver.get('https://twitter.com/@elonmusk')\n",
    "tw_driver.maximize_window()"
   ]
  },
  {
   "cell_type": "code",
   "execution_count": 28,
   "metadata": {
    "id": "XTyGRxLaSy6w"
   },
   "outputs": [],
   "source": [
    "tw_driver.execute_script(\"window.scrollTo(0, document.body.scrollHeight);\")"
   ]
  },
  {
   "cell_type": "code",
   "execution_count": 27,
   "metadata": {
    "id": "eA1HyBHPTQrr"
   },
   "outputs": [],
   "source": [
    "tw_driver.execute_script(\"window.scrollTo(0, document.body.scrollHeight);\")"
   ]
  },
  {
   "cell_type": "code",
   "execution_count": 27,
   "metadata": {
    "id": "yTONyUXSFKtc"
   },
   "outputs": [
    {
     "name": "stdout",
     "output_type": "stream",
     "text": [
      "Our headquarters tonight\n",
      "The people have spoken. \n",
      "\n",
      "Trump will be reinstated.\n",
      "\n",
      "Vox Populi, Vox Dei.\n",
      "Reinstate former President Trump\n",
      "Hip-firing my Barrett 50 cal\n",
      "If I had a dollar for every time someone asked me if Trump is coming back on this platform, Twitter would be minting money!\n",
      "ur welcome\n",
      "This is a battle for the future of civilization. If free speech is lost even in America, tyranny is all that lies ahead.\n",
      "Sometimes it’s just better to make pizza at home\n",
      "Oh the Irany …\n"
     ]
    }
   ],
   "source": [
    "tweets = tw_driver.find_elements(By.XPATH, \"//div[@data-testid='tweetText']\")\n",
    "\n",
    "for tweet in tweets:\n",
    "    print(tweet.text)"
   ]
  },
  {
   "cell_type": "code",
   "execution_count": 29,
   "metadata": {
    "id": "Sn9VK-GKKwRn"
   },
   "outputs": [
    {
     "name": "stdout",
     "output_type": "stream",
     "text": [
      "The people have spoken. \n",
      "\n",
      "Trump will be reinstated.\n",
      "\n",
      "Vox Populi, Vox Dei.\n",
      "Reinstate former President Trump\n",
      "Hip-firing my Barrett 50 cal\n",
      "If I had a dollar for every time someone asked me if Trump is coming back on this platform, Twitter would be minting money!\n",
      "ur welcome\n",
      "This is a battle for the future of civilization. If free speech is lost even in America, tyranny is all that lies ahead.\n",
      "Sometimes it’s just better to make pizza at home\n",
      "Oh the Irany …\n",
      "The people have spoken. \n",
      "\n",
      "Trump will be reinstated.\n",
      "\n",
      "Vox Populi, Vox Dei.\n",
      "Reinstate former President Trump\n",
      "Hip-firing my Barrett 50 cal\n",
      "If I had a dollar for every time someone asked me if Trump is coming back on this platform, Twitter would be minting money!\n",
      "ur welcome\n",
      "This is a battle for the future of civilization. If free speech is lost even in America, tyranny is all that lies ahead.\n",
      "Sometimes it’s just better to make pizza at home\n",
      "Oh the Irany …\n"
     ]
    }
   ],
   "source": [
    "last_height = tw_driver.execute_script(\"window.scrollTo(0, document.body.scrollHeight);\")\n",
    "\n",
    "while True:\n",
    "    \n",
    "    for tweet in tw_driver.find_elements(By.XPATH, \"//div[@data-testid='tweetText']\"):\n",
    "        print(tweet.text)\n",
    "        \n",
    "    tw_driver.execute_script(\"window.scrollTo(0, document.body.scrollHeight);\")\n",
    "    time.sleep(3)\n",
    "\n",
    "    new_height = tw_driver.execute_script(\"return document.body.scrollHeight\")\n",
    "\n",
    "\n",
    "    if new_height == last_height:\n",
    "\n",
    "        break\n",
    "\n",
    "    # last will become\n",
    "    last_height = new_height"
   ]
  },
  {
   "cell_type": "code",
   "execution_count": 30,
   "metadata": {},
   "outputs": [],
   "source": [
    "tw_driver.quit()"
   ]
  }
 ],
 "metadata": {
  "colab": {
   "provenance": []
  },
  "kernelspec": {
   "display_name": "Python 3 (ipykernel)",
   "language": "python",
   "name": "python3"
  },
  "language_info": {
   "codemirror_mode": {
    "name": "ipython",
    "version": 3
   },
   "file_extension": ".py",
   "mimetype": "text/x-python",
   "name": "python",
   "nbconvert_exporter": "python",
   "pygments_lexer": "ipython3",
   "version": "3.11.5"
  }
 },
 "nbformat": 4,
 "nbformat_minor": 1
}
