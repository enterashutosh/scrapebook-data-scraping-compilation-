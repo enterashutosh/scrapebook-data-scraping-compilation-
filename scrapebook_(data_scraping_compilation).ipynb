{
 "cells": [
  {
   "cell_type": "markdown",
   "metadata": {
    "id": "gMhp5Rg-8nVE"
   },
   "source": [
    "#installation (selenium and other things)"
   ]
  },
  {
   "cell_type": "code",
   "execution_count": 1,
   "metadata": {
    "colab": {
     "base_uri": "https://localhost:8080/"
    },
    "id": "nYVZa-ypOxzz",
    "outputId": "151493d1-13ed-4ad9-fb00-eba605de9f5c"
   },
   "outputs": [
    {
     "name": "stdout",
     "output_type": "stream",
     "text": [
      "Requirement already satisfied: selenium in c:\\users\\ashut\\anaconda3\\lib\\site-packages (4.16.0)\n",
      "Requirement already satisfied: urllib3[socks]<3,>=1.26 in c:\\users\\ashut\\anaconda3\\lib\\site-packages (from selenium) (1.26.16)\n",
      "Requirement already satisfied: trio~=0.17 in c:\\users\\ashut\\anaconda3\\lib\\site-packages (from selenium) (0.23.2)\n",
      "Requirement already satisfied: trio-websocket~=0.9 in c:\\users\\ashut\\anaconda3\\lib\\site-packages (from selenium) (0.11.1)\n",
      "Requirement already satisfied: certifi>=2021.10.8 in c:\\users\\ashut\\anaconda3\\lib\\site-packages (from selenium) (2023.7.22)\n",
      "Requirement already satisfied: attrs>=20.1.0 in c:\\users\\ashut\\anaconda3\\lib\\site-packages (from trio~=0.17->selenium) (22.1.0)\n",
      "Requirement already satisfied: sortedcontainers in c:\\users\\ashut\\anaconda3\\lib\\site-packages (from trio~=0.17->selenium) (2.4.0)\n",
      "Requirement already satisfied: idna in c:\\users\\ashut\\anaconda3\\lib\\site-packages (from trio~=0.17->selenium) (3.4)\n",
      "Requirement already satisfied: outcome in c:\\users\\ashut\\anaconda3\\lib\\site-packages (from trio~=0.17->selenium) (1.3.0.post0)\n",
      "Requirement already satisfied: sniffio>=1.3.0 in c:\\users\\ashut\\anaconda3\\lib\\site-packages (from trio~=0.17->selenium) (1.3.0)\n",
      "Requirement already satisfied: cffi>=1.14 in c:\\users\\ashut\\anaconda3\\lib\\site-packages (from trio~=0.17->selenium) (1.15.1)\n",
      "Requirement already satisfied: wsproto>=0.14 in c:\\users\\ashut\\anaconda3\\lib\\site-packages (from trio-websocket~=0.9->selenium) (1.2.0)\n",
      "Requirement already satisfied: PySocks!=1.5.7,<2.0,>=1.5.6 in c:\\users\\ashut\\anaconda3\\lib\\site-packages (from urllib3[socks]<3,>=1.26->selenium) (1.7.1)\n",
      "Requirement already satisfied: pycparser in c:\\users\\ashut\\anaconda3\\lib\\site-packages (from cffi>=1.14->trio~=0.17->selenium) (2.21)\n",
      "Requirement already satisfied: h11<1,>=0.9.0 in c:\\users\\ashut\\anaconda3\\lib\\site-packages (from wsproto>=0.14->trio-websocket~=0.9->selenium) (0.14.0)\n",
      "Note: you may need to restart the kernel to use updated packages.\n"
     ]
    }
   ],
   "source": [
    "pip install selenium"
   ]
  },
  {
   "cell_type": "code",
   "execution_count": 2,
   "metadata": {
    "id": "ko3fj2TQPJ90"
   },
   "outputs": [],
   "source": [
    "from selenium import webdriver\n",
    "from selenium.webdriver.chrome.options import Options\n",
    "from selenium.webdriver.common.by import By"
   ]
  },
  {
   "cell_type": "code",
   "execution_count": 3,
   "metadata": {
    "id": "gtK6myAXPOcp"
   },
   "outputs": [],
   "source": [
    "options = Options()\n",
    "\n",
    "# following is for google colab only, can work in jupyter without\n",
    "\n",
    "#options.add_argument('--headless')\n",
    "#options.add_argument('--no-sandbox')"
   ]
  },
  {
   "cell_type": "code",
   "execution_count": 4,
   "metadata": {
    "id": "UkCHo69JQuVu"
   },
   "outputs": [],
   "source": [
    "from bs4 import BeautifulSoup\n",
    "import numpy as np\n",
    "import pandas as pd\n",
    "import time"
   ]
  },
  {
   "cell_type": "markdown",
   "metadata": {
    "id": "X3RrkuETSjmj"
   },
   "source": [
    "#flipkart (phones and their prices)"
   ]
  },
  {
   "cell_type": "code",
   "execution_count": 5,
   "metadata": {
    "id": "c-CkSu6Az6IT"
   },
   "outputs": [],
   "source": [
    "kart_driver = webdriver.Chrome(options=options)\n",
    "kart_driver.get('https://www.flipkart.com/')\n",
    "kart_driver.maximize_window()"
   ]
  },
  {
   "cell_type": "code",
   "execution_count": 6,
   "metadata": {
    "id": "ee6IlLAnik5l"
   },
   "outputs": [],
   "source": [
    "search_box = kart_driver.find_element(By.NAME, 'q')\n",
    "search_box.send_keys('mobile phones')\n",
    "search_box.submit()\n",
    "\n",
    "kart_driver.implicitly_wait(3)"
   ]
  },
  {
   "cell_type": "code",
   "execution_count": 7,
   "metadata": {
    "colab": {
     "base_uri": "https://localhost:8080/"
    },
    "id": "IpaL8FphmP6A",
    "outputId": "44df27e2-9dfc-40fe-bdd5-a54d411e8a2c"
   },
   "outputs": [
    {
     "name": "stdout",
     "output_type": "stream",
     "text": [
      "Motorola G34 5G (Ocean Green, 128 GB) ₹11,999\n",
      "Apple iPhone 15 (Blue, 128 GB) ₹72,999\n",
      "Motorola G34 5G (Ocean Green, 128 GB) ₹10,999\n",
      "Motorola g54 5G (Midnight Blue, 128 GB) ₹13,999\n",
      "POCO C51 (Royal Blue, 64 GB) ₹5,499\n",
      "Motorola g54 5G (Midnight Blue, 256 GB) ₹15,999\n",
      "Motorola G34 5G (Ice Blue, 128 GB) ₹11,999\n",
      "Apple iPhone 15 (Black, 128 GB) ₹72,999\n",
      "SAMSUNG Galaxy F04 (Opal Green, 64 GB) ₹5,999\n",
      "POCO C55 (Forest Green, 128 GB) ₹6,499\n",
      "Motorola g54 5G (Mint Green, 128 GB) ₹13,999\n",
      "POCO M6 5G (Orion Blue, 128 GB) ₹9,499\n",
      "POCO C55 (Cool Blue, 128 GB) ₹6,499\n",
      "POCO C55 (Power Black, 128 GB) ₹6,499\n",
      "Motorola Edge 40 Neo (Caneel Bay, 128 GB) ₹22,999\n",
      "Motorola g54 5G (Pearl Blue, 128 GB) ₹13,999\n",
      "vivo T2x 5G (Aurora Gold, 128 GB) ₹14,999\n",
      "POCO M6 Pro 5G (Power Black, 128 GB) ₹11,499\n",
      "POCO M6 Pro 5G (Forest Green, 128 GB) ₹11,499\n",
      "vivo T2x 5G (Marine Blue, 128 GB) ₹12,999\n",
      "vivo T2x 5G (Aurora Gold, 128 GB) ₹12,999\n",
      "vivo T2x 5G (Glimmer Black, 128 GB) ₹12,999\n",
      "vivo T2x 5G (Marine Blue, 128 GB) ₹11,999\n",
      "vivo T2x 5G (Glimmer Black, 128 GB) ₹11,999\n"
     ]
    }
   ],
   "source": [
    "data_dict = {}\n",
    "\n",
    "product_names = kart_driver.find_elements(By.CLASS_NAME, '_4rR01T')\n",
    "product_prices = kart_driver.find_elements(By.CLASS_NAME, '_30jeq3')\n",
    "\n",
    "for index, item in enumerate(product_names, 0):\n",
    "    data_dict.update({item : product_prices[index]})\n",
    "\n",
    "for x, y in data_dict.items():\n",
    "    print(x.text, y.text)"
   ]
  },
  {
   "cell_type": "code",
   "execution_count": 8,
   "metadata": {},
   "outputs": [
    {
     "name": "stdout",
     "output_type": "stream",
     "text": [
      "[<selenium.webdriver.remote.webelement.WebElement (session=\"d15cf4c399ae0433c9b00654d3493f97\", element=\"9FD44EDA0EE0DC297DB008F7CBA984B6_element_361\")>\n",
      " <selenium.webdriver.remote.webelement.WebElement (session=\"d15cf4c399ae0433c9b00654d3493f97\", element=\"9FD44EDA0EE0DC297DB008F7CBA984B6_element_385\")>]\n",
      "Motorola G34 5G (Ocean Green, 128 GB)\n",
      "₹11,999\n"
     ]
    }
   ],
   "source": [
    "numpy_array = np.array(list(data_dict.items()))\n",
    "\n",
    "print(numpy_array[0])\n",
    "print(numpy_array[0][0].text)\n",
    "print(numpy_array[0][1].text)"
   ]
  },
  {
   "cell_type": "code",
   "execution_count": 9,
   "metadata": {},
   "outputs": [],
   "source": [
    "kart_driver.quit()"
   ]
  },
  {
   "cell_type": "markdown",
   "metadata": {
    "id": "9W2pk3t8RbY8"
   },
   "source": [
    "#turtle images (dealing with iframes)"
   ]
  },
  {
   "cell_type": "code",
   "execution_count": 10,
   "metadata": {
    "id": "zNi-xmvaRs6X"
   },
   "outputs": [],
   "source": [
    "turtle_driver = webdriver.Chrome(options=options)\n",
    "turtle_driver.get('https://www.scrapethissite.com/pages/frames/')\n",
    "turtle_driver.maximize_window()"
   ]
  },
  {
   "cell_type": "code",
   "execution_count": 11,
   "metadata": {
    "id": "CjYbZH2cnNGo"
   },
   "outputs": [],
   "source": [
    "iframe = turtle_driver.find_element(By.TAG_NAME, 'iframe')\n",
    "turtle_driver.switch_to.frame(iframe)"
   ]
  },
  {
   "cell_type": "code",
   "execution_count": 12,
   "metadata": {
    "colab": {
     "base_uri": "https://localhost:8080/"
    },
    "id": "cCewSjY6stIZ",
    "outputId": "5b409c80-887d-448a-8a31-4267acbf36d7"
   },
   "outputs": [
    {
     "name": "stdout",
     "output_type": "stream",
     "text": [
      "https://www.scrapethissite.com/static/images/scraper-icon.png\n",
      "https://upload.wikimedia.org/wikipedia/commons/thumb/b/b3/Carettochelys_insculpta.jpg/200px-Carettochelys_insculpta.jpg\n",
      "https://upload.wikimedia.org/wikipedia/commons/thumb/7/71/GreenSeaTurtle-2.jpg/200px-GreenSeaTurtle-2.jpg\n",
      "https://upload.wikimedia.org/wikipedia/commons/thumb/8/88/Alligator_snapping_turtle.jpg/200px-Alligator_snapping_turtle.jpg\n",
      "https://upload.wikimedia.org/wikipedia/commons/thumb/8/8a/Dermatemydidae.JPG/200px-Dermatemydidae.JPG\n",
      "https://upload.wikimedia.org/wikipedia/commons/thumb/9/9b/LeatherbackTurtle.jpg/200px-LeatherbackTurtle.jpg\n",
      "https://upload.wikimedia.org/wikipedia/commons/thumb/4/45/Tortoise1_cepolina.jpg/200px-Tortoise1_cepolina.jpg\n",
      "https://upload.wikimedia.org/wikipedia/commons/thumb/f/f3/Cuora_amboinensis_kamaroma_j.jpg/200px-Cuora_amboinensis_kamaroma_j.jpg\n",
      "https://upload.wikimedia.org/wikipedia/commons/thumb/5/5e/Sternotherus_odoratus.jpg/200px-Sternotherus_odoratus.jpg\n",
      "https://upload.wikimedia.org/wikipedia/commons/thumb/7/79/Zolw_wielkoglowy.jpg/200px-Zolw_wielkoglowy.jpg\n",
      "https://upload.wikimedia.org/wikipedia/commons/thumb/4/41/Tortoise.aldabra.750pix.jpg/200px-Tortoise.aldabra.750pix.jpg\n",
      "https://upload.wikimedia.org/wikipedia/commons/thumb/3/39/Apalone_spinifera.jpg/200px-Apalone_spinifera.jpg\n",
      "https://upload.wikimedia.org/wikipedia/commons/thumb/e/ec/Eastern_long_neck_tortoise_-_chelodina_longicollis.jpg/200px-Eastern_long_neck_tortoise_-_chelodina_longicollis.jpg\n",
      "https://upload.wikimedia.org/wikipedia/commons/thumb/8/86/Pelomedusa_subrufa.JPG/200px-Pelomedusa_subrufa.JPG\n",
      "https://upload.wikimedia.org/wikipedia/commons/thumb/5/5b/Erymnochelys_madagascariensis.jpg/200px-Erymnochelys_madagascariensis.jpg\n"
     ]
    }
   ],
   "source": [
    "images_list = turtle_driver.find_elements(By.TAG_NAME, 'img')\n",
    "for item in images_list:\n",
    "  print(item.get_attribute('src'))"
   ]
  },
  {
   "cell_type": "code",
   "execution_count": 13,
   "metadata": {
    "colab": {
     "base_uri": "https://localhost:8080/"
    },
    "id": "tqn_hi5dupDy",
    "outputId": "50e937fd-07d9-4c33-8807-e0f6b73c2888"
   },
   "outputs": [
    {
     "data": {
      "text/plain": [
       "<Response [200]>"
      ]
     },
     "execution_count": 13,
     "metadata": {},
     "output_type": "execute_result"
    }
   ],
   "source": [
    "import requests\n",
    "import shutil\n",
    "\n",
    "url = images_list[2].get_attribute('src')\n",
    "result = requests.get(url, stream = True)\n",
    "file_name = 'test_download.jpg'\n",
    "\n",
    "with open(file_name,'wb') as f:\n",
    "  shutil.copyfileobj(result.raw, f)\n",
    "\n",
    "result"
   ]
  },
  {
   "cell_type": "code",
   "execution_count": 14,
   "metadata": {},
   "outputs": [],
   "source": [
    "turtle_driver.quit()"
   ]
  },
  {
   "cell_type": "markdown",
   "metadata": {
    "id": "RLJqv69qiGv_"
   },
   "source": [
    "#youtube (top 100 songs)"
   ]
  },
  {
   "cell_type": "code",
   "execution_count": 15,
   "metadata": {
    "id": "UA2dF_mAdHpq"
   },
   "outputs": [],
   "source": [
    "yt_driver = webdriver.Chrome(options=options)\n",
    "yt_driver.get('https://www.youtube.com/')\n",
    "yt_driver.maximize_window()"
   ]
  },
  {
   "cell_type": "code",
   "execution_count": 16,
   "metadata": {
    "id": "i31JGBkJiVcN"
   },
   "outputs": [],
   "source": [
    "search_btn = yt_driver.find_element(By.XPATH, \"//input[@id='search']\")\n",
    "search_btn.send_keys('top 100 songs 2023')\n",
    "search_btn.submit()"
   ]
  },
  {
   "cell_type": "code",
   "execution_count": 17,
   "metadata": {
    "id": "W72zSbOLlBaN"
   },
   "outputs": [],
   "source": [
    "playlist_btn = yt_driver.find_element(By.XPATH, \"//a[contains(text(), 'View full playlist')]\")\n",
    "playlist_btn.click()"
   ]
  },
  {
   "cell_type": "code",
   "execution_count": 18,
   "metadata": {
    "colab": {
     "base_uri": "https://localhost:8080/"
    },
    "id": "FqdrPeKWqxzP",
    "outputId": "12787e3d-3797-49ca-cbcf-f915ad4759d9"
   },
   "outputs": [
    {
     "data": {
      "text/plain": [
       "[]"
      ]
     },
     "execution_count": 18,
     "metadata": {},
     "output_type": "execute_result"
    }
   ],
   "source": [
    "videos = yt_driver.find_elements(By.CSS_SELECTOR, \"ytd-browse  div#meta a#video-title\")\n",
    "videos_list = [video.text for video in videos]\n",
    "videos_list"
   ]
  },
  {
   "cell_type": "code",
   "execution_count": 19,
   "metadata": {},
   "outputs": [],
   "source": [
    "yt_driver.quit()"
   ]
  },
  {
   "cell_type": "markdown",
   "metadata": {},
   "source": [
    "#twitter (tweets by elon musk)"
   ]
  },
  {
   "cell_type": "code",
   "execution_count": 25,
   "metadata": {
    "id": "rIFCwhePZrQ2"
   },
   "outputs": [],
   "source": [
    "tw_driver = webdriver.Chrome(options=options)\n",
    "tw_driver.get('https://twitter.com/@elonmusk')\n",
    "tw_driver.maximize_window()"
   ]
  },
  {
   "cell_type": "code",
   "execution_count": 26,
   "metadata": {
    "id": "XTyGRxLaSy6w"
   },
   "outputs": [],
   "source": [
    "tw_driver.execute_script(\"window.scrollTo(0, document.body.scrollHeight);\")"
   ]
  },
  {
   "cell_type": "code",
   "execution_count": 27,
   "metadata": {
    "id": "eA1HyBHPTQrr"
   },
   "outputs": [],
   "source": [
    "tw_driver.execute_script(\"window.scrollTo(0, document.body.scrollHeight);\")"
   ]
  },
  {
   "cell_type": "code",
   "execution_count": 28,
   "metadata": {
    "id": "yTONyUXSFKtc"
   },
   "outputs": [],
   "source": [
    "tweets = tw_driver.find_elements(By.XPATH, \"//div[@data-testid='tweetText']\")\n",
    "\n",
    "for tweet in tweets:\n",
    "    print(tweet.text)"
   ]
  },
  {
   "cell_type": "code",
   "execution_count": 29,
   "metadata": {
    "id": "Sn9VK-GKKwRn"
   },
   "outputs": [
    {
     "name": "stdout",
     "output_type": "stream",
     "text": [
      "Worth watching, especially for parents\n",
      "Next I’m buying Coca-Cola to put the cocaine back in\n",
      "I hope that even my worst critics remain on Twitter, because that is what free speech means\n",
      "Let’s make Twitter maximum fun!\n",
      " Yesss!!! \n",
      "Listen, I can’t do miracles ok\n",
      "the bird is freed\n",
      "Comedy is now legal on Twitter\n",
      "If I die under mysterious circumstances, it’s been nice knowin ya\n",
      "Reinstate former President Trump\n",
      "Some nights …\n",
      "Practicing martial arts with my sparring partner\n",
      "I mean \n",
      "The bots are angry at being counted \n",
      "Went to the Eagle Pass border crossing to see what’s really going on\n"
     ]
    }
   ],
   "source": [
    "last_height = tw_driver.execute_script(\"window.scrollTo(0, document.body.scrollHeight);\")\n",
    "\n",
    "while True:\n",
    "    \n",
    "    for tweet in tw_driver.find_elements(By.XPATH, \"//div[@data-testid='tweetText']\"):\n",
    "        print(tweet.text)\n",
    "        \n",
    "    tw_driver.execute_script(\"window.scrollTo(0, document.body.scrollHeight);\")\n",
    "    time.sleep(3)\n",
    "\n",
    "    new_height = tw_driver.execute_script(\"return document.body.scrollHeight\")\n",
    "\n",
    "\n",
    "    if new_height == last_height:\n",
    "\n",
    "        break\n",
    "\n",
    "    # last will become\n",
    "    last_height = new_height"
   ]
  },
  {
   "cell_type": "code",
   "execution_count": 30,
   "metadata": {},
   "outputs": [],
   "source": [
    "tw_driver.quit()"
   ]
  }
 ],
 "metadata": {
  "colab": {
   "provenance": []
  },
  "kernelspec": {
   "display_name": "Python 3 (ipykernel)",
   "language": "python",
   "name": "python3"
  },
  "language_info": {
   "codemirror_mode": {
    "name": "ipython",
    "version": 3
   },
   "file_extension": ".py",
   "mimetype": "text/x-python",
   "name": "python",
   "nbconvert_exporter": "python",
   "pygments_lexer": "ipython3",
   "version": "3.11.5"
  }
 },
 "nbformat": 4,
 "nbformat_minor": 1
}
