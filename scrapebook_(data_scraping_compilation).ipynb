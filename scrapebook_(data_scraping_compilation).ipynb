{
  "nbformat": 4,
  "nbformat_minor": 0,
  "metadata": {
    "colab": {
      "provenance": []
    },
    "kernelspec": {
      "name": "python3",
      "display_name": "Python 3"
    },
    "language_info": {
      "name": "python"
    }
  },
  "cells": [
    {
      "cell_type": "markdown",
      "source": [
        "#installation (selenium and other things)"
      ],
      "metadata": {
        "id": "gMhp5Rg-8nVE"
      }
    },
    {
      "cell_type": "code",
      "source": [
        "pip install selenium"
      ],
      "metadata": {
        "colab": {
          "base_uri": "https://localhost:8080/"
        },
        "id": "nYVZa-ypOxzz",
        "outputId": "151493d1-13ed-4ad9-fb00-eba605de9f5c"
      },
      "execution_count": null,
      "outputs": [
        {
          "output_type": "stream",
          "name": "stdout",
          "text": [
            "Collecting selenium\n",
            "  Downloading selenium-4.16.0-py3-none-any.whl (10.0 MB)\n",
            "\u001b[2K     \u001b[90m━━━━━━━━━━━━━━━━━━━━━━━━━━━━━━━━━━━━━━━━\u001b[0m \u001b[32m10.0/10.0 MB\u001b[0m \u001b[31m19.5 MB/s\u001b[0m eta \u001b[36m0:00:00\u001b[0m\n",
            "\u001b[?25hRequirement already satisfied: urllib3[socks]<3,>=1.26 in /usr/local/lib/python3.10/dist-packages (from selenium) (2.0.7)\n",
            "Collecting trio~=0.17 (from selenium)\n",
            "  Downloading trio-0.23.2-py3-none-any.whl (461 kB)\n",
            "\u001b[2K     \u001b[90m━━━━━━━━━━━━━━━━━━━━━━━━━━━━━━━━━━━━━━━━\u001b[0m \u001b[32m461.6/461.6 kB\u001b[0m \u001b[31m24.1 MB/s\u001b[0m eta \u001b[36m0:00:00\u001b[0m\n",
            "\u001b[?25hCollecting trio-websocket~=0.9 (from selenium)\n",
            "  Downloading trio_websocket-0.11.1-py3-none-any.whl (17 kB)\n",
            "Requirement already satisfied: certifi>=2021.10.8 in /usr/local/lib/python3.10/dist-packages (from selenium) (2023.11.17)\n",
            "Requirement already satisfied: attrs>=20.1.0 in /usr/local/lib/python3.10/dist-packages (from trio~=0.17->selenium) (23.1.0)\n",
            "Requirement already satisfied: sortedcontainers in /usr/local/lib/python3.10/dist-packages (from trio~=0.17->selenium) (2.4.0)\n",
            "Requirement already satisfied: idna in /usr/local/lib/python3.10/dist-packages (from trio~=0.17->selenium) (3.6)\n",
            "Collecting outcome (from trio~=0.17->selenium)\n",
            "  Downloading outcome-1.3.0.post0-py2.py3-none-any.whl (10 kB)\n",
            "Requirement already satisfied: sniffio>=1.3.0 in /usr/local/lib/python3.10/dist-packages (from trio~=0.17->selenium) (1.3.0)\n",
            "Requirement already satisfied: exceptiongroup in /usr/local/lib/python3.10/dist-packages (from trio~=0.17->selenium) (1.2.0)\n",
            "Collecting wsproto>=0.14 (from trio-websocket~=0.9->selenium)\n",
            "  Downloading wsproto-1.2.0-py3-none-any.whl (24 kB)\n",
            "Requirement already satisfied: pysocks!=1.5.7,<2.0,>=1.5.6 in /usr/local/lib/python3.10/dist-packages (from urllib3[socks]<3,>=1.26->selenium) (1.7.1)\n",
            "Collecting h11<1,>=0.9.0 (from wsproto>=0.14->trio-websocket~=0.9->selenium)\n",
            "  Downloading h11-0.14.0-py3-none-any.whl (58 kB)\n",
            "\u001b[2K     \u001b[90m━━━━━━━━━━━━━━━━━━━━━━━━━━━━━━━━━━━━━━━━\u001b[0m \u001b[32m58.3/58.3 kB\u001b[0m \u001b[31m7.2 MB/s\u001b[0m eta \u001b[36m0:00:00\u001b[0m\n",
            "\u001b[?25hInstalling collected packages: outcome, h11, wsproto, trio, trio-websocket, selenium\n",
            "Successfully installed h11-0.14.0 outcome-1.3.0.post0 selenium-4.16.0 trio-0.23.2 trio-websocket-0.11.1 wsproto-1.2.0\n"
          ]
        }
      ]
    },
    {
      "cell_type": "code",
      "source": [
        "from selenium import webdriver\n",
        "from selenium.webdriver.chrome.options import Options\n",
        "from selenium.webdriver.common.by import By\n",
        "from selenium.common.exceptions import NoSuchElementException"
      ],
      "metadata": {
        "id": "ko3fj2TQPJ90"
      },
      "execution_count": null,
      "outputs": []
    },
    {
      "cell_type": "code",
      "source": [
        "options = Options()\n",
        "\n",
        "# following is for google colab only, can work in jupyter without\n",
        "\n",
        "options.add_argument('--headless=new')\n",
        "options.add_argument('--no-sandbox')"
      ],
      "metadata": {
        "id": "gtK6myAXPOcp"
      },
      "execution_count": null,
      "outputs": []
    },
    {
      "cell_type": "code",
      "source": [
        "from bs4 import BeautifulSoup\n",
        "import numpy as np\n",
        "import pandas as pd\n",
        "import time"
      ],
      "metadata": {
        "id": "UkCHo69JQuVu"
      },
      "execution_count": null,
      "outputs": []
    },
    {
      "cell_type": "markdown",
      "source": [
        "#flipkart (phones and their prices)"
      ],
      "metadata": {
        "id": "X3RrkuETSjmj"
      }
    },
    {
      "cell_type": "code",
      "source": [
        "kart_driver = webdriver.Chrome(options=options)\n",
        "kart_driver.get('https://www.flipkart.com/')"
      ],
      "metadata": {
        "id": "c-CkSu6Az6IT"
      },
      "execution_count": null,
      "outputs": []
    },
    {
      "cell_type": "code",
      "source": [
        "search_box = kart_driver.find_element(By.NAME, 'q')\n",
        "search_box.send_keys('mobile phones')\n",
        "search_box.submit()\n",
        "\n",
        "kart_driver.implicitly_wait(3)"
      ],
      "metadata": {
        "id": "ee6IlLAnik5l"
      },
      "execution_count": null,
      "outputs": []
    },
    {
      "cell_type": "code",
      "source": [
        "data_dict = {}\n",
        "\n",
        "product_names = kart_driver.find_elements(By.CLASS_NAME, '_4rR01T')\n",
        "product_prices = kart_driver.find_elements(By.CLASS_NAME, '_30jeq3')\n",
        "\n",
        "for index, item in enumerate(product_names, 0):\n",
        "    data_dict.update({item : product_prices[index]})\n",
        "\n",
        "for x, y in data_dict.items():\n",
        "    print(x.text, y.text)"
      ],
      "metadata": {
        "colab": {
          "base_uri": "https://localhost:8080/"
        },
        "id": "IpaL8FphmP6A",
        "outputId": "44df27e2-9dfc-40fe-bdd5-a54d411e8a2c"
      },
      "execution_count": null,
      "outputs": [
        {
          "output_type": "stream",
          "name": "stdout",
          "text": [
            "APPLE iPhone 14 (Blue, 128 GB) ₹58,999\n",
            "APPLE iPhone 14 (Midnight, 128 GB) ₹59,999\n",
            "APPLE iPhone 14 (Starlight, 128 GB) ₹59,999\n",
            "SAMSUNG Galaxy F14 5G (OMG Black, 128 GB) ₹12,490\n",
            "SAMSUNG Galaxy F14 5G (GOAT Green, 128 GB) ₹12,490\n",
            "APPLE iPhone 14 (Purple, 128 GB) ₹59,999\n",
            "APPLE iPhone 14 Plus (Starlight, 128 GB) ₹67,999\n",
            "APPLE iPhone 14 Plus (Midnight, 128 GB) ₹67,999\n",
            "POCO C55 (Cool Blue, 128 GB) ₹7,499\n",
            "APPLE iPhone 14 Plus (Purple, 128 GB) ₹67,999\n",
            "POCO C51 (Royal Blue, 64 GB) ₹5,999\n",
            "POCO C55 (Forest Green, 64 GB) ₹6,499\n",
            "MOTOROLA g54 5G (Mint Green, 128 GB) ₹13,999\n",
            "OnePlus Nord CE 2 Lite 5G (Blue Tide, 128 GB) ₹17,036\n",
            "SAMSUNG Galaxy F14 5G (B.A.E. Purple, 128 GB) ₹12,490\n",
            "MOTOROLA g54 5G (Midnight Blue, 128 GB) ₹13,999\n",
            "vivo T2x 5G (Aurora Gold, 128 GB) ₹12,999\n",
            "vivo T2x 5G (Marine Blue, 128 GB) ₹12,999\n",
            "vivo T2x 5G (Glimmer Black, 128 GB) ₹12,999\n",
            "vivo T2x 5G (Aurora Gold, 128 GB) ₹14,999\n",
            "vivo T2x 5G (Marine Blue, 128 GB) ₹11,999\n",
            "vivo T2x 5G (Aurora Gold, 128 GB) ₹11,999\n",
            "vivo T2x 5G (Glimmer Black, 128 GB) ₹11,999\n",
            "vivo T2x 5G (Glimmer Black, 128 GB) ₹14,999\n"
          ]
        }
      ]
    },
    {
      "cell_type": "markdown",
      "source": [
        "#turtle images (dealing with iframes)"
      ],
      "metadata": {
        "id": "9W2pk3t8RbY8"
      }
    },
    {
      "cell_type": "code",
      "source": [
        "turtle_driver = webdriver.Chrome(options=options)\n",
        "turtle_driver.get('https://www.scrapethissite.com/pages/frames/')"
      ],
      "metadata": {
        "id": "zNi-xmvaRs6X"
      },
      "execution_count": null,
      "outputs": []
    },
    {
      "cell_type": "code",
      "source": [
        "iframe = turtle_driver.find_element(By.TAG_NAME, 'iframe')\n",
        "turtle_driver.switch_to.frame(iframe)"
      ],
      "metadata": {
        "id": "CjYbZH2cnNGo"
      },
      "execution_count": null,
      "outputs": []
    },
    {
      "cell_type": "code",
      "source": [
        "images_list = turtle_driver.find_elements(By.TAG_NAME, 'img')\n",
        "for item in images_list:\n",
        "  print(item.get_attribute('src'))"
      ],
      "metadata": {
        "colab": {
          "base_uri": "https://localhost:8080/"
        },
        "id": "cCewSjY6stIZ",
        "outputId": "5b409c80-887d-448a-8a31-4267acbf36d7"
      },
      "execution_count": null,
      "outputs": [
        {
          "output_type": "stream",
          "name": "stdout",
          "text": [
            "https://www.scrapethissite.com/static/images/scraper-icon.png\n",
            "https://upload.wikimedia.org/wikipedia/commons/thumb/b/b3/Carettochelys_insculpta.jpg/200px-Carettochelys_insculpta.jpg\n",
            "https://upload.wikimedia.org/wikipedia/commons/thumb/7/71/GreenSeaTurtle-2.jpg/200px-GreenSeaTurtle-2.jpg\n",
            "https://upload.wikimedia.org/wikipedia/commons/thumb/8/88/Alligator_snapping_turtle.jpg/200px-Alligator_snapping_turtle.jpg\n",
            "https://upload.wikimedia.org/wikipedia/commons/thumb/8/8a/Dermatemydidae.JPG/200px-Dermatemydidae.JPG\n",
            "https://upload.wikimedia.org/wikipedia/commons/thumb/9/9b/LeatherbackTurtle.jpg/200px-LeatherbackTurtle.jpg\n",
            "https://upload.wikimedia.org/wikipedia/commons/thumb/4/45/Tortoise1_cepolina.jpg/200px-Tortoise1_cepolina.jpg\n",
            "https://upload.wikimedia.org/wikipedia/commons/thumb/f/f3/Cuora_amboinensis_kamaroma_j.jpg/200px-Cuora_amboinensis_kamaroma_j.jpg\n",
            "https://upload.wikimedia.org/wikipedia/commons/thumb/5/5e/Sternotherus_odoratus.jpg/200px-Sternotherus_odoratus.jpg\n",
            "https://upload.wikimedia.org/wikipedia/commons/thumb/7/79/Zolw_wielkoglowy.jpg/200px-Zolw_wielkoglowy.jpg\n",
            "https://upload.wikimedia.org/wikipedia/commons/thumb/4/41/Tortoise.aldabra.750pix.jpg/200px-Tortoise.aldabra.750pix.jpg\n",
            "https://upload.wikimedia.org/wikipedia/commons/thumb/3/39/Apalone_spinifera.jpg/200px-Apalone_spinifera.jpg\n",
            "https://upload.wikimedia.org/wikipedia/commons/thumb/e/ec/Eastern_long_neck_tortoise_-_chelodina_longicollis.jpg/200px-Eastern_long_neck_tortoise_-_chelodina_longicollis.jpg\n",
            "https://upload.wikimedia.org/wikipedia/commons/thumb/8/86/Pelomedusa_subrufa.JPG/200px-Pelomedusa_subrufa.JPG\n",
            "https://upload.wikimedia.org/wikipedia/commons/thumb/5/5b/Erymnochelys_madagascariensis.jpg/200px-Erymnochelys_madagascariensis.jpg\n"
          ]
        }
      ]
    },
    {
      "cell_type": "code",
      "source": [
        "import requests\n",
        "import shutil\n",
        "\n",
        "url = images_list[2].get_attribute('src')\n",
        "res = requests.get(url, stream = True)\n",
        "file_name = 'test_download.jpg'\n",
        "\n",
        "with open(file_name,'wb') as f:\n",
        "  shutil.copyfileobj(res.raw, f)\n",
        "\n",
        "res"
      ],
      "metadata": {
        "colab": {
          "base_uri": "https://localhost:8080/"
        },
        "id": "tqn_hi5dupDy",
        "outputId": "50e937fd-07d9-4c33-8807-e0f6b73c2888"
      },
      "execution_count": null,
      "outputs": [
        {
          "output_type": "execute_result",
          "data": {
            "text/plain": [
              "<Response [200]>"
            ]
          },
          "metadata": {},
          "execution_count": 124
        }
      ]
    },
    {
      "cell_type": "markdown",
      "source": [
        "#youtube (top 100 songs)"
      ],
      "metadata": {
        "id": "RLJqv69qiGv_"
      }
    },
    {
      "cell_type": "code",
      "source": [
        "yt_driver = webdriver.Chrome(options=options)\n",
        "yt_driver.get('https://www.youtube.com/')"
      ],
      "metadata": {
        "id": "UA2dF_mAdHpq"
      },
      "execution_count": null,
      "outputs": []
    },
    {
      "cell_type": "code",
      "source": [
        "search_btn = yt_driver.find_element(By.XPATH, \"//input[@id='search']\")\n",
        "search_btn.send_keys('top 100 songs 2023')\n",
        "search_btn.submit()"
      ],
      "metadata": {
        "id": "i31JGBkJiVcN"
      },
      "execution_count": null,
      "outputs": []
    },
    {
      "cell_type": "code",
      "source": [
        "playlist_btn = yt_driver.find_element(By.XPATH, \"//a[contains(text(), 'View full playlist')]\")\n",
        "playlist_btn.click()"
      ],
      "metadata": {
        "id": "W72zSbOLlBaN"
      },
      "execution_count": null,
      "outputs": []
    },
    {
      "cell_type": "code",
      "source": [
        "videos = yt_driver.find_elements(By.CSS_SELECTOR, \"ytd-browse  div#meta a#video-title\")\n",
        "videos_list = [video.text for video in videos]\n",
        "videos_list"
      ],
      "metadata": {
        "colab": {
          "base_uri": "https://localhost:8080/"
        },
        "id": "FqdrPeKWqxzP",
        "outputId": "12787e3d-3797-49ca-cbcf-f915ad4759d9"
      },
      "execution_count": null,
      "outputs": [
        {
          "output_type": "execute_result",
          "data": {
            "text/plain": [
              "['Jack Harlow - Lovin On Me [Official Music Video]',\n",
              " 'Doja Cat - Paint The Town Red (Official Video)',\n",
              " 'Dua Lipa - Dance The Night (From Barbie The Album) [Official Music Video]',\n",
              " 'Zach Bryan - I Remember Everything (feat. Kacey Musgraves)',\n",
              " 'Tyla, Travis Scott - Water (Remix - Official Audio)',\n",
              " 'Luke Combs - Fast Car (Lyrics)',\n",
              " 'Drake - First Person Shooter ft. J. Cole',\n",
              " 'Taylor Swift - Cruel Summer (Official Audio)',\n",
              " 'Morgan Wallen - Last Night (One Record At A Time Sessions)',\n",
              " 'Dua Lipa - Houdini (Official Music Video)',\n",
              " 'Rema, Selena Gomez - Calm Down (Official Music Video)',\n",
              " 'Gunna - fukumean [Official Visualizer]',\n",
              " 'Miley Cyrus - Used To Be Young (Official Video)',\n",
              " \"정국 (Jung Kook) '3D (feat. Jack Harlow)' Official MV\",\n",
              " 'Olivia Rodrigo - vampire (Official Lyric Video)',\n",
              " 'Nicki Minaj & Ice Spice – Barbie World (with Aqua) [Official Music Video]',\n",
              " 'SZA - Snooze (Official Video)',\n",
              " 'Miley Cyrus - Flowers (Official Video)',\n",
              " 'Bailey Zimmerman - Religiously (Official Music Video)',\n",
              " 'Tate McRae - greedy (Official Video)',\n",
              " 'Lil Durk - All My Life ft. J. Cole (Official Video)',\n",
              " 'Billie Eilish - What Was I Made For? (Official Music Video)',\n",
              " \"Metro Boomin, The Weeknd, 21 Savage - Creepin' (Visualizer)\",\n",
              " 'Taylor Swift ft. Ice Spice - Karma (Official Music Video)',\n",
              " 'Olivia Rodrigo - bad idea right? (Official Video)',\n",
              " 'Drake - Another Late Night ft. Lil Yachty (Directed by Cole Bennett)',\n",
              " 'Jelly Roll - \"NEED A FAVOR\" (Official Music Video)',\n",
              " 'Taylor Swift - Anti-Hero (Official Music Video)',\n",
              " 'Selena Gomez - Single Soon (Official Music Video)',\n",
              " 'SZA - Kill Bill (Audio)',\n",
              " 'Morgan Wallen - Thinkin’ Bout Me',\n",
              " 'Oliver Anthony - Rich Men North Of Richmond',\n",
              " \"FIFTY FIFTY (피프티피프티) - 'Cupid' Official MV\",\n",
              " 'KAROL G, Peso Pluma - QLONA (Visualizer)',\n",
              " 'Luke Combs - Love You Anyway (Official Studio Video)',\n",
              " 'Travis Scott - MELTDOWN (Official Audio) ft. Drake',\n",
              " 'Rod Wave - Call Your Friends (Official Video)',\n",
              " 'PinkPantheress - Nice to meet you (feat. Central Cee) [Official Video]',\n",
              " 'Kenya Grace - Strangers (Official Lyric Video)',\n",
              " \"정국 (Jung Kook) 'Seven (feat. Latto)' Official MV\",\n",
              " 'Drake - Slime You Out ft. SZA (Official Audio)',\n",
              " 'Jason Aldean - Try That In A Small Town (Official Music Video)',\n",
              " 'Noah Kahan, Post Malone - Dial Drunk (Official Lyric Video)',\n",
              " 'Toosii - Favorite Song (Official Video)',\n",
              " 'Lainey Wilson - Watermelon Moonshine (Official Music Video)',\n",
              " 'Sabrina Carpenter - Feather (Official Video)',\n",
              " 'Kane Brown - Bury Me in Georgia (Official Music Video)',\n",
              " 'Mitski - My Love Mine All Mine (Official Video)',\n",
              " 'Jordan Davis - Next Thing You Know (Official Music Video)',\n",
              " 'Ella Baila Sola - (Video Oficial) - Eslabon Armado y Peso Pluma - DEL Records 2023',\n",
              " 'Drake - Search & Rescue (Official Visualizer)',\n",
              " 'David Kushner - Daylight (Official Music Video)',\n",
              " 'Yng Lvcas & Peso Pluma - La Bebe (Remix) [Video Oficial]',\n",
              " 'Doechii - What It Is (Block Boy) feat. Kodak Black [Official Video]',\n",
              " 'Tate McRae - exes (Official Video)',\n",
              " 'Doja Cat - Agora Hills (Official Video)',\n",
              " 'Travis Scott - FE!N (Official Audio) ft. Playboi Carti',\n",
              " 'Latto - Put It On Da Floor Again (feat. Cardi B) [Official Video]',\n",
              " 'Travis Scott - TELEKINESIS (Official Audio) ft. SZA, Future',\n",
              " 'Tems - Me & U (Official Video)',\n",
              " 'Burna Boy - City Boys [Official Music Video]',\n",
              " 'Myke Towers - Lala (Video Oficial)',\n",
              " 'Post Malone - Chemical (Official Music Video)',\n",
              " 'Troye Sivan - One of Your Girls (Official Video)',\n",
              " 'Young Nudy - Peaches & Eggplants (Official Video) ft. 21 Savage',\n",
              " 'LADY GAGA (Video Oficial) - Peso Pluma, Gabito Ballesteros, Junior H',\n",
              " 'Ice Spice - Deli',\n",
              " 'HARDY - TRUCK BED (Official Music Video)',\n",
              " 'Travis Scott, Bad Bunny, The Weeknd - K-POP (Official Music Video)',\n",
              " 'Warren Zeiders - Pretty Little Poison (Official Music Video)',\n",
              " 'KAROL G - MI EX TENÍA RAZÓN (Official Video)',\n",
              " 'Bad Bunny - WHERE SHE GOES (Official Video)',\n",
              " 'The Weeknd, Madonna, Playboi Carti - Popular (Visualizer)',\n",
              " 'Ice Spice & Nicki Minaj - Princess Diana (Official Music Video)',\n",
              " 'That Mexican OT - Johnny Dang (feat. Paul Wall & Drodi) (Official Music Video)',\n",
              " 'David Guetta, Anne-Marie, Coi Leray - Baby Don’t Hurt Me (Official Video)',\n",
              " \"Polo G - Barely Holdin' On (Official Video)\",\n",
              " \"NewJeans (뉴진스) 'Super Shy' Official MV\",\n",
              " 'DaBaby - SHAKE SUMN (Official Music Video)',\n",
              " 'Young Thug - Oh U Went (feat. Drake) [Official Video]',\n",
              " 'Quavo & Future - Turn Your Clic Up (Official Video)',\n",
              " 'Teddy Swims - Lose Control (Official Audio)',\n",
              " 'USHER, Summer Walker, 21 Savage - Good Good (Official Music Video)',\n",
              " 'Chris Brown - Summer Too Hot (Official Video)',\n",
              " 'The Weeknd, Ariana Grande - Die For You (Remix / Lyric Video)',\n",
              " 'PinkPantheress, Ice Spice - Boy’s a liar Pt. 2 (Official Video)',\n",
              " 'Harry Styles - As It Was (Official Video)',\n",
              " 'Coi Leray - Players (DJ Smallz 732 - Jersey Club Remix)',\n",
              " 'Libianca - People (Official Video)',\n",
              " 'Kaliii - Area Codes (Official Music Video)',\n",
              " 'Rod Wave - Fight The Feeling (Official Video)',\n",
              " \"David Guetta & Bebe Rexha - I'm Good (Blue) [Official Music Video]\",\n",
              " 'Chris Brown - Under The Influence (Official Video)',\n",
              " 'Morgan Wallen - Thought You Should Know',\n",
              " 'Tyla - Water (Official Music Video)',\n",
              " 'Larry June, Cardo, Too $hort & Peezy - GRGP (Official Video)',\n",
              " 'Lil Bean & ZayBang - givenofuks (Official Video)',\n",
              " 'BabyTron - Beyond Turnt 2 (Official Video)',\n",
              " 'Vedo - Split (Official Video)',\n",
              " '$tupid Young - Ghetto Poetry (Official Video) (feat. Peezy)']"
            ]
          },
          "metadata": {},
          "execution_count": 15
        }
      ]
    },
    {
      "cell_type": "markdown",
      "source": [
        "# xes from X"
      ],
      "metadata": {
        "id": "5Ku37LSSZmlS"
      }
    },
    {
      "cell_type": "code",
      "source": [
        "X_driver = webdriver.Chrome(options=options)\n",
        "X_driver.get('https://twitter.com/@ankitatiima')"
      ],
      "metadata": {
        "id": "rIFCwhePZrQ2"
      },
      "execution_count": null,
      "outputs": []
    },
    {
      "cell_type": "code",
      "source": [
        "X_driver.execute_script(\"window.scrollTo(0, document.body.scrollHeight);\")"
      ],
      "metadata": {
        "id": "XTyGRxLaSy6w"
      },
      "execution_count": null,
      "outputs": []
    },
    {
      "cell_type": "code",
      "source": [
        "X_driver.execute_script(\"window.scrollTo(0, document.body.scrollHeight);\")"
      ],
      "metadata": {
        "id": "eA1HyBHPTQrr"
      },
      "execution_count": null,
      "outputs": []
    },
    {
      "cell_type": "code",
      "source": [
        "X_list = X_driver.find_elements(By.XPATH, \"//div[@class='css-1rynq56 r-8akbws r-krxsd3 r-dnmrzs r-1udh08x r-bcqeeo r-qvutc0 r-1qd0xha r-a023e6 r-rjixqe r-16dba41 r-bnwqim']/child[@style='text-overflow: unset;']\")"
      ],
      "metadata": {
        "id": "yTONyUXSFKtc"
      },
      "execution_count": null,
      "outputs": []
    },
    {
      "cell_type": "code",
      "source": [
        "for xes in X_list:\n",
        "  print(xes.text)"
      ],
      "metadata": {
        "id": "I4b3W6L9E2nv"
      },
      "execution_count": null,
      "outputs": []
    },
    {
      "cell_type": "code",
      "source": [
        "scroll_pause_time = 3\n",
        "last_height = X_driver.execute_script(\"return document.body.scrollHeight\")\n",
        "\n",
        "de_list = []\n",
        "\n",
        "for xes in X_driver.find_elements(By.XPATH, \"//div[@data-testid='tweetText']\"):\n",
        "  print(xes.text)\n",
        "\n",
        "while True:\n",
        "\n",
        "    X_driver.execute_script(\"window.scrollTo(0, document.body.scrollHeight);\")\n",
        "\n",
        "    time.sleep(scroll_pause_time)\n",
        "\n",
        "    new_height = X_driver.execute_script(\"return document.body.scrollHeight\")\n",
        "\n",
        "\n",
        "    if new_height == last_height:\n",
        "\n",
        "        break\n",
        "\n",
        "    # last will become\n",
        "    last_height = new_height"
      ],
      "metadata": {
        "id": "Sn9VK-GKKwRn"
      },
      "execution_count": null,
      "outputs": []
    }
  ]
}